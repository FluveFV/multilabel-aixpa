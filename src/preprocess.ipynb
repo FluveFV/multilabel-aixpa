{
 "cells": [
  {
   "cell_type": "code",
   "execution_count": 1,
   "id": "71a1cf81-3956-4d20-a871-d0c825850ed3",
   "metadata": {
    "execution": {
     "iopub.execute_input": "2025-01-27T11:09:17.057397Z",
     "iopub.status.busy": "2025-01-27T11:09:17.056443Z",
     "iopub.status.idle": "2025-01-27T11:09:17.641702Z",
     "shell.execute_reply": "2025-01-27T11:09:17.641294Z",
     "shell.execute_reply.started": "2025-01-27T11:09:17.057336Z"
    }
   },
   "outputs": [],
   "source": [
    "import pandas as pd\n",
    "import os \n",
    "import re\n",
    "from unidecode import unidecode"
   ]
  },
  {
   "cell_type": "markdown",
   "id": "a4383bc4-fe46-43bb-8583-7cd54b240771",
   "metadata": {},
   "source": [
    "### Objective:\n",
    "We need to put it in a generic label-text format, as standard practice. \n",
    "\n",
    "If the same text entry has multiple labels, one can put the same text on different rows along with the different labels for trainining. \n",
    "\n",
    "The ```municip_faudit_plans.csv``` dataset was created by unifying several sources that describe with different parameters the actions within the plans for Italian Municipalities that have participated and obtained a Family Audit certification. \n",
    "\n",
    "The file specification may be one of the following: ```.csv```, ```.gzip```, ```.xlsx```, ```.json```, ```.feather```"
   ]
  },
  {
   "cell_type": "code",
   "execution_count": 2,
   "id": "ed956504-a808-4bdf-8f13-a20262ee35aa",
   "metadata": {
    "execution": {
     "iopub.execute_input": "2025-01-27T11:09:47.885165Z",
     "iopub.status.busy": "2025-01-27T11:09:47.884372Z",
     "iopub.status.idle": "2025-01-27T11:09:48.177677Z",
     "shell.execute_reply": "2025-01-27T11:09:48.177124Z",
     "shell.execute_reply.started": "2025-01-27T11:09:47.885100Z"
    }
   },
   "outputs": [],
   "source": [
    "df = pd.read_parquet('municip_faudit_plans.gzip')\n",
    "org = pd.read_parquet('')"
   ]
  },
  {
   "cell_type": "markdown",
   "id": "b0da4abb-31a2-493f-8c32-afb89f4e0c35",
   "metadata": {},
   "source": [
    "The data used for training contains: \n",
    "\n",
    "- ```ID_tassonomia```\n",
    "- ```titolo```\n",
    "- ```descrizione```\n",
    "- ```obiettivo```\n",
    "ID_tassonomia is the category to predict. the whole list of ID_tassonomia can be found in [correspondence.csv](https://github.com/FluveFV/faudit-classifier/blob/main/src/correspondence.csv), along with the relationship with other categories relevant to the taxonomy description.\n",
    "\n",
    "The other elements, title-description-objective, will be unified in one text and pre-processed to get rid of non-ascii characters. Here's an example function to do so:"
   ]
  },
  {
   "cell_type": "code",
   "execution_count": 88,
   "id": "aec26c7d-cdfb-4012-b7bd-a8517b9bd301",
   "metadata": {
    "execution": {
     "iopub.execute_input": "2024-12-04T12:04:59.693940Z",
     "iopub.status.busy": "2024-12-04T12:04:59.693631Z",
     "iopub.status.idle": "2024-12-04T12:04:59.699685Z",
     "shell.execute_reply": "2024-12-04T12:04:59.699007Z",
     "shell.execute_reply.started": "2024-12-04T12:04:59.693904Z"
    }
   },
   "outputs": [],
   "source": [
    "def formatter(og, c=None):\n",
    "    df = og.fillna('')\n",
    "    r = {}\n",
    "    tdo = []\n",
    "    if not isinstance(c, type(None)):\n",
    "        assert isinstance(c, list), 'The additional column(s) must be in a list' \n",
    "        for el in c:\n",
    "            r[el] = df[el]\n",
    "\n",
    "    for t, d, o in zip(df.titolo, df.descrizione, df.obiettivo):\n",
    "        t = ascificatore(t)\n",
    "        d = ascificatore(d)\n",
    "        o = ascificatore(o)\n",
    "        tdo.append((t + ' . ' + d + ' . '+ o).lower())\n",
    "    r['text'] = tdo\n",
    "\n",
    "    return pd.DataFrame(r)   \n",
    "    \n",
    "def ascificatore(s):\n",
    "    return unidecode(' '.join([c for c in re.split(r'[\\r\\n\\t]+', s) if s.strip()]).encode('ascii', 'ignore').decode())"
   ]
  },
  {
   "cell_type": "code",
   "execution_count": 89,
   "id": "4fb38cef-5ea9-41b0-a70d-a48b9c060a33",
   "metadata": {
    "execution": {
     "iopub.execute_input": "2024-12-04T12:04:59.700992Z",
     "iopub.status.busy": "2024-12-04T12:04:59.700715Z",
     "iopub.status.idle": "2024-12-04T12:05:00.085668Z",
     "shell.execute_reply": "2024-12-04T12:05:00.084946Z",
     "shell.execute_reply.started": "2024-12-04T12:04:59.700973Z"
    }
   },
   "outputs": [
    {
     "data": {
      "text/html": [
       "<div>\n",
       "<style scoped>\n",
       "    .dataframe tbody tr th:only-of-type {\n",
       "        vertical-align: middle;\n",
       "    }\n",
       "\n",
       "    .dataframe tbody tr th {\n",
       "        vertical-align: top;\n",
       "    }\n",
       "\n",
       "    .dataframe thead th {\n",
       "        text-align: right;\n",
       "    }\n",
       "</style>\n",
       "<table border=\"1\" class=\"dataframe\">\n",
       "  <thead>\n",
       "    <tr style=\"text-align: right;\">\n",
       "      <th></th>\n",
       "      <th>text</th>\n",
       "    </tr>\n",
       "  </thead>\n",
       "  <tbody>\n",
       "    <tr>\n",
       "      <th>0</th>\n",
       "      <td>adesione al piano giovani di zona della comuni...</td>\n",
       "    </tr>\n",
       "    <tr>\n",
       "      <th>1</th>\n",
       "      <td>riduzione tariffe asilo nido dal 1 gennaio 201...</td>\n",
       "    </tr>\n",
       "    <tr>\n",
       "      <th>2</th>\n",
       "      <td>revisione parametri icef per servizio tagesmut...</td>\n",
       "    </tr>\n",
       "    <tr>\n",
       "      <th>3</th>\n",
       "      <td>agevolazione per lacquisto kit pannolini lavab...</td>\n",
       "    </tr>\n",
       "    <tr>\n",
       "      <th>4</th>\n",
       "      <td>abbattimento della quota di iscrizione al serv...</td>\n",
       "    </tr>\n",
       "    <tr>\n",
       "      <th>...</th>\n",
       "      <td>...</td>\n",
       "    </tr>\n",
       "    <tr>\n",
       "      <th>20303</th>\n",
       "      <td>fasciatoio . il bagno al pianterreno del munic...</td>\n",
       "    </tr>\n",
       "    <tr>\n",
       "      <th>20304</th>\n",
       "      <td>allattamento . all'interno della biblioteca co...</td>\n",
       "    </tr>\n",
       "    <tr>\n",
       "      <th>20305</th>\n",
       "      <td>sentieri . i cinque sentieri tematici che perm...</td>\n",
       "    </tr>\n",
       "    <tr>\n",
       "      <th>20306</th>\n",
       "      <td>sentieri . i cinque sentieri tematici che perm...</td>\n",
       "    </tr>\n",
       "    <tr>\n",
       "      <th>20307</th>\n",
       "      <td>cohousing . sul territorio del comune di luser...</td>\n",
       "    </tr>\n",
       "  </tbody>\n",
       "</table>\n",
       "<p>20308 rows × 1 columns</p>\n",
       "</div>"
      ],
      "text/plain": [
       "                                                    text\n",
       "0      adesione al piano giovani di zona della comuni...\n",
       "1      riduzione tariffe asilo nido dal 1 gennaio 201...\n",
       "2      revisione parametri icef per servizio tagesmut...\n",
       "3      agevolazione per lacquisto kit pannolini lavab...\n",
       "4      abbattimento della quota di iscrizione al serv...\n",
       "...                                                  ...\n",
       "20303  fasciatoio . il bagno al pianterreno del munic...\n",
       "20304  allattamento . all'interno della biblioteca co...\n",
       "20305  sentieri . i cinque sentieri tematici che perm...\n",
       "20306  sentieri . i cinque sentieri tematici che perm...\n",
       "20307  cohousing . sul territorio del comune di luser...\n",
       "\n",
       "[20308 rows x 1 columns]"
      ]
     },
     "execution_count": 89,
     "metadata": {},
     "output_type": "execute_result"
    }
   ],
   "source": [
    "data = formatter(df)\n",
    "data.head()\n",
    "data"
   ]
  },
  {
   "cell_type": "markdown",
   "id": "139953c8-9a41-4006-bc26-63992c4933c8",
   "metadata": {},
   "source": [
    "Then, we attach the equivalent label we want to predict. One can also try and train the model wrt. 'macrocategoria' or 'field' as they are a less granular version of 'ID_tassonomia' for a simpler prediction."
   ]
  },
  {
   "cell_type": "code",
   "execution_count": 90,
   "id": "79add752-a820-464b-9398-ce3900b48a3c",
   "metadata": {
    "execution": {
     "iopub.execute_input": "2024-12-04T12:05:00.086767Z",
     "iopub.status.busy": "2024-12-04T12:05:00.086452Z",
     "iopub.status.idle": "2024-12-04T12:05:00.118541Z",
     "shell.execute_reply": "2024-12-04T12:05:00.117912Z",
     "shell.execute_reply.started": "2024-12-04T12:05:00.086737Z"
    }
   },
   "outputs": [
    {
     "data": {
      "text/html": [
       "<div>\n",
       "<style scoped>\n",
       "    .dataframe tbody tr th:only-of-type {\n",
       "        vertical-align: middle;\n",
       "    }\n",
       "\n",
       "    .dataframe tbody tr th {\n",
       "        vertical-align: top;\n",
       "    }\n",
       "\n",
       "    .dataframe thead th {\n",
       "        text-align: right;\n",
       "    }\n",
       "</style>\n",
       "<table border=\"1\" class=\"dataframe\">\n",
       "  <thead>\n",
       "    <tr style=\"text-align: right;\">\n",
       "      <th></th>\n",
       "      <th>text</th>\n",
       "      <th>label</th>\n",
       "    </tr>\n",
       "  </thead>\n",
       "  <tbody>\n",
       "    <tr>\n",
       "      <th>0</th>\n",
       "      <td>adesione al piano giovani di zona della comuni...</td>\n",
       "      <td>11</td>\n",
       "    </tr>\n",
       "    <tr>\n",
       "      <th>1</th>\n",
       "      <td>riduzione tariffe asilo nido dal 1 gennaio 201...</td>\n",
       "      <td>26</td>\n",
       "    </tr>\n",
       "    <tr>\n",
       "      <th>2</th>\n",
       "      <td>revisione parametri icef per servizio tagesmut...</td>\n",
       "      <td>26</td>\n",
       "    </tr>\n",
       "    <tr>\n",
       "      <th>3</th>\n",
       "      <td>agevolazione per lacquisto kit pannolini lavab...</td>\n",
       "      <td>30</td>\n",
       "    </tr>\n",
       "    <tr>\n",
       "      <th>4</th>\n",
       "      <td>abbattimento della quota di iscrizione al serv...</td>\n",
       "      <td>26</td>\n",
       "    </tr>\n",
       "  </tbody>\n",
       "</table>\n",
       "</div>"
      ],
      "text/plain": [
       "                                                text  label\n",
       "0  adesione al piano giovani di zona della comuni...     11\n",
       "1  riduzione tariffe asilo nido dal 1 gennaio 201...     26\n",
       "2  revisione parametri icef per servizio tagesmut...     26\n",
       "3  agevolazione per lacquisto kit pannolini lavab...     30\n",
       "4  abbattimento della quota di iscrizione al serv...     26"
      ]
     },
     "execution_count": 90,
     "metadata": {},
     "output_type": "execute_result"
    }
   ],
   "source": [
    "data['label'] = df['ID_tassonomia']\n",
    "data.drop_duplicates(inplace=True)\n",
    "data.head()"
   ]
  },
  {
   "cell_type": "markdown",
   "id": "d862db7d-4b52-431c-b605-b3a867231c9a",
   "metadata": {},
   "source": [
    "### Important mention\n",
    "Given the nature of the data, the classes are often very imbalanced. Since ```train.py``` automatically splits in a stratified manner, we need to have classes that have more than 3 occurrences (for each to end up in one of the train/val/test split). \n",
    "\n",
    "Furthermore, those classes are not expected to appear in future data, given their extremely low usage by municipalities, therefore we suggest using a threshold of 30 observations per class minimum for the processed data."
   ]
  },
  {
   "cell_type": "code",
   "execution_count": 91,
   "id": "e622679c-fd89-4be7-8b42-adb15fafc12a",
   "metadata": {
    "execution": {
     "iopub.execute_input": "2024-12-04T12:05:00.119404Z",
     "iopub.status.busy": "2024-12-04T12:05:00.119210Z",
     "iopub.status.idle": "2024-12-04T12:05:00.124423Z",
     "shell.execute_reply": "2024-12-04T12:05:00.123087Z",
     "shell.execute_reply.started": "2024-12-04T12:05:00.119379Z"
    }
   },
   "outputs": [],
   "source": [
    "before = data.shape[0]"
   ]
  },
  {
   "cell_type": "code",
   "execution_count": 93,
   "id": "6963c72c-86eb-4c00-8b7f-7f02e1c0ce76",
   "metadata": {
    "execution": {
     "iopub.execute_input": "2024-12-04T12:05:27.971675Z",
     "iopub.status.busy": "2024-12-04T12:05:27.970983Z",
     "iopub.status.idle": "2024-12-04T12:05:27.987794Z",
     "shell.execute_reply": "2024-12-04T12:05:27.985594Z",
     "shell.execute_reply.started": "2024-12-04T12:05:27.971631Z"
    }
   },
   "outputs": [
    {
     "name": "stdout",
     "output_type": "stream",
     "text": [
      "230 rows have been removed. Remaining classes: 56\n"
     ]
    }
   ],
   "source": [
    "c = data['label'].value_counts()[data.label.value_counts() >= 30].index.tolist()\n",
    "data = data[data.label.isin(c)]\n",
    "after = data.shape[0]\n",
    "print(f'{before-after} rows have been removed. Remaining classes: {data.label.unique().shape[0]}')"
   ]
  },
  {
   "cell_type": "code",
   "execution_count": 33,
   "id": "da41f21a-86b2-47af-9ca7-bda766197f1d",
   "metadata": {
    "execution": {
     "iopub.execute_input": "2024-12-03T10:44:55.336068Z",
     "iopub.status.busy": "2024-12-03T10:44:55.335607Z",
     "iopub.status.idle": "2024-12-03T10:44:55.420381Z",
     "shell.execute_reply": "2024-12-03T10:44:55.419263Z",
     "shell.execute_reply.started": "2024-12-03T10:44:55.336026Z"
    }
   },
   "outputs": [],
   "source": [
    "os.makedirs('dataset_BERT', exist_ok=True)\n",
    "data.to_parquet('dataset_BERT/addestramento.gzip') #or csv, xlsx, etc."
   ]
  },
  {
   "cell_type": "markdown",
   "id": "a22bd242-41f9-42b1-88fe-d1c95bc99dbe",
   "metadata": {},
   "source": [
    "This is the preprocess in its simplest version. We also checked for potential data leaks. In this case, we mean not exactly identical text between different rows, but similar enough that the training and testing process may share an almost identical text. \n",
    "\n",
    "The accuracy often does improve, but also the risk of overfitting on the data, as only ~$30$% of the entries of the original dataset may be truly unique. Depending on how different the different entries of text can be, the percentage mentioned above may change.\n",
    "\n",
    "A demo-version of the data is uploaded [here](https://github.com/FluveFV/faudit-classifier/blob/main/src/addestramento.gzip)."
   ]
  }
 ],
 "metadata": {
  "kernelspec": {
   "display_name": "Python 3 (ipykernel)",
   "language": "python",
   "name": "python3"
  },
  "language_info": {
   "codemirror_mode": {
    "name": "ipython",
    "version": 3
   },
   "file_extension": ".py",
   "mimetype": "text/x-python",
   "name": "python",
   "nbconvert_exporter": "python",
   "pygments_lexer": "ipython3",
   "version": "3.10.0"
  }
 },
 "nbformat": 4,
 "nbformat_minor": 5
}
