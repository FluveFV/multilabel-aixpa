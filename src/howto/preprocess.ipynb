{
 "cells": [
  {
   "cell_type": "code",
   "execution_count": 92,
   "id": "71a1cf81-3956-4d20-a871-d0c825850ed3",
   "metadata": {
    "execution": {
     "iopub.execute_input": "2025-02-17T13:44:50.869796Z",
     "iopub.status.busy": "2025-02-17T13:44:50.868768Z",
     "iopub.status.idle": "2025-02-17T13:44:50.874337Z",
     "shell.execute_reply": "2025-02-17T13:44:50.873290Z",
     "shell.execute_reply.started": "2025-02-17T13:44:50.869747Z"
    }
   },
   "outputs": [],
   "source": [
    "import pandas as pd\n",
    "import os \n",
    "import re\n",
    "from unidecode import unidecode"
   ]
  },
  {
   "cell_type": "markdown",
   "id": "a4383bc4-fe46-43bb-8583-7cd54b240771",
   "metadata": {},
   "source": [
    "### Objective:\n",
    "Data needs to be put in a generic text-label(s) format. If the one observation (entry) has multiple labels, then they need to be saved in different columns, as many as the labels the observation can have. \n",
    "\n",
    "The ```companies_FA.csv``` dataset was created by unifying several sources that describe with different parameters the actions within the plans for companies that have participated and obtained a Family Audit certification. \n",
    "\n",
    "The file specification may be one of the following: ```.csv```, ```.gzip```. Other filetypes can work but haven't been tested.\n",
    "\n",
    "The data lake *must* have a text column. All the other columns will be interpreted as labels if they are named anything that starts with \"label\". The script treats column names as case insensitive, so there is no difference if a column is named \"Label\", \"laBEL\", \"LABEL\", etc."
   ]
  },
  {
   "cell_type": "code",
   "execution_count": 120,
   "id": "ed956504-a808-4bdf-8f13-a20262ee35aa",
   "metadata": {
    "execution": {
     "iopub.execute_input": "2025-02-17T13:51:41.141251Z",
     "iopub.status.busy": "2025-02-17T13:51:41.140604Z",
     "iopub.status.idle": "2025-02-17T13:51:41.158700Z",
     "shell.execute_reply": "2025-02-17T13:51:41.158083Z",
     "shell.execute_reply.started": "2025-02-17T13:51:41.141169Z"
    },
    "scrolled": true
   },
   "outputs": [
    {
     "data": {
      "text/html": [
       "<div>\n",
       "<style scoped>\n",
       "    .dataframe tbody tr th:only-of-type {\n",
       "        vertical-align: middle;\n",
       "    }\n",
       "\n",
       "    .dataframe tbody tr th {\n",
       "        vertical-align: top;\n",
       "    }\n",
       "\n",
       "    .dataframe thead th {\n",
       "        text-align: right;\n",
       "    }\n",
       "</style>\n",
       "<table border=\"1\" class=\"dataframe\">\n",
       "  <thead>\n",
       "    <tr style=\"text-align: right;\">\n",
       "      <th></th>\n",
       "      <th>text</th>\n",
       "      <th>Label 0</th>\n",
       "      <th>Label 1</th>\n",
       "      <th>Label 2</th>\n",
       "      <th>Label 3</th>\n",
       "      <th>Label 4</th>\n",
       "      <th>Label 5</th>\n",
       "      <th>Label 6</th>\n",
       "      <th>Label 7</th>\n",
       "      <th>Label 8</th>\n",
       "      <th>Label 9</th>\n",
       "    </tr>\n",
       "  </thead>\n",
       "  <tbody>\n",
       "    <tr>\n",
       "      <th>0</th>\n",
       "      <td>telelavoro domiciliare/mobile . avviare uno st...</td>\n",
       "      <td>11630743.0</td>\n",
       "      <td>11630742.0</td>\n",
       "      <td>NaN</td>\n",
       "      <td>NaN</td>\n",
       "      <td>NaN</td>\n",
       "      <td>NaN</td>\n",
       "      <td>NaN</td>\n",
       "      <td>NaN</td>\n",
       "      <td>NaN</td>\n",
       "      <td>NaN</td>\n",
       "    </tr>\n",
       "    <tr>\n",
       "      <th>1</th>\n",
       "      <td>gruppo di lavoro interno . formalizzazione del...</td>\n",
       "      <td>11630762.0</td>\n",
       "      <td>NaN</td>\n",
       "      <td>NaN</td>\n",
       "      <td>NaN</td>\n",
       "      <td>NaN</td>\n",
       "      <td>NaN</td>\n",
       "      <td>NaN</td>\n",
       "      <td>NaN</td>\n",
       "      <td>NaN</td>\n",
       "      <td>NaN</td>\n",
       "    </tr>\n",
       "    <tr>\n",
       "      <th>2</th>\n",
       "      <td>lavoro decentrato . e' prassi in essere la pos...</td>\n",
       "      <td>11630744.0</td>\n",
       "      <td>NaN</td>\n",
       "      <td>NaN</td>\n",
       "      <td>NaN</td>\n",
       "      <td>NaN</td>\n",
       "      <td>NaN</td>\n",
       "      <td>NaN</td>\n",
       "      <td>NaN</td>\n",
       "      <td>NaN</td>\n",
       "      <td>NaN</td>\n",
       "    </tr>\n",
       "    <tr>\n",
       "      <th>3</th>\n",
       "      <td>rientro accompagnato dopo lunghe assenze . suc...</td>\n",
       "      <td>11630760.0</td>\n",
       "      <td>NaN</td>\n",
       "      <td>NaN</td>\n",
       "      <td>NaN</td>\n",
       "      <td>NaN</td>\n",
       "      <td>NaN</td>\n",
       "      <td>NaN</td>\n",
       "      <td>NaN</td>\n",
       "      <td>NaN</td>\n",
       "      <td>NaN</td>\n",
       "    </tr>\n",
       "    <tr>\n",
       "      <th>4</th>\n",
       "      <td>supervisione delle politiche di conciliazione ...</td>\n",
       "      <td>11630753.0</td>\n",
       "      <td>NaN</td>\n",
       "      <td>NaN</td>\n",
       "      <td>NaN</td>\n",
       "      <td>NaN</td>\n",
       "      <td>NaN</td>\n",
       "      <td>NaN</td>\n",
       "      <td>NaN</td>\n",
       "      <td>NaN</td>\n",
       "      <td>NaN</td>\n",
       "    </tr>\n",
       "  </tbody>\n",
       "</table>\n",
       "</div>"
      ],
      "text/plain": [
       "                                                text     Label 0     Label 1  \\\n",
       "0  telelavoro domiciliare/mobile . avviare uno st...  11630743.0  11630742.0   \n",
       "1  gruppo di lavoro interno . formalizzazione del...  11630762.0         NaN   \n",
       "2  lavoro decentrato . e' prassi in essere la pos...  11630744.0         NaN   \n",
       "3  rientro accompagnato dopo lunghe assenze . suc...  11630760.0         NaN   \n",
       "4  supervisione delle politiche di conciliazione ...  11630753.0         NaN   \n",
       "\n",
       "   Label 2  Label 3  Label 4  Label 5  Label 6  Label 7  Label 8  Label 9  \n",
       "0      NaN      NaN      NaN      NaN      NaN      NaN      NaN      NaN  \n",
       "1      NaN      NaN      NaN      NaN      NaN      NaN      NaN      NaN  \n",
       "2      NaN      NaN      NaN      NaN      NaN      NaN      NaN      NaN  \n",
       "3      NaN      NaN      NaN      NaN      NaN      NaN      NaN      NaN  \n",
       "4      NaN      NaN      NaN      NaN      NaN      NaN      NaN      NaN  "
      ]
     },
     "execution_count": 120,
     "metadata": {},
     "output_type": "execute_result"
    }
   ],
   "source": [
    "df = pd.read_csv('companies_FA.csv')\n",
    "df.head()"
   ]
  },
  {
   "cell_type": "markdown",
   "id": "b0da4abb-31a2-493f-8c32-afb89f4e0c35",
   "metadata": {},
   "source": [
    "The data used for training contains: \n",
    "\n",
    "```text```\n",
    "\n",
    "```Label 0```\n",
    "\n",
    "```Label 1```\n",
    "\n",
    "    ...\n",
    "\n",
    "```Label 9```\n",
    "\n",
    "The IDs in the several columns are the labels to predict. The data lake can have NaN. There is no importance on the order of the labels in the columns; the first one does is not more important than the second, etc. There must be at least one label per observation. The labels do not have to be close to the text. \n",
    "\n",
    "Valid examples of dataframes are:\n",
    "|text|Label 0|Label 1|\n",
    "|---|---|--|\n",
    "|example of a sentence|5|NaN|\n",
    "\n",
    "|text|Label 0|Label 1|Label 2|Label 3|\n",
    "|---|---|---|---|---|\n",
    "|example of a sentence|\"Cat\"|NaN|\"Dog\"|NaN|\n",
    "\n",
    "The first column must have a label. In the ```train.py``` script the first column is used to [stratify split](https://scikit-learn.org/stable/modules/generated/sklearn.model_selection.train_test_split.html) the observations into training, validation and test set."
   ]
  },
  {
   "cell_type": "markdown",
   "id": "2a8f782a-ed6f-4f66-8252-9dee79cdf9cf",
   "metadata": {},
   "source": [
    "If you have multiple text columns (e.g. one representing the title of the document, one representing the description, etc.) you can merge them with the following formatter."
   ]
  },
  {
   "cell_type": "code",
   "execution_count": 121,
   "id": "aec26c7d-cdfb-4012-b7bd-a8517b9bd301",
   "metadata": {
    "execution": {
     "iopub.execute_input": "2025-02-17T13:51:44.522099Z",
     "iopub.status.busy": "2025-02-17T13:51:44.521472Z",
     "iopub.status.idle": "2025-02-17T13:51:44.529631Z",
     "shell.execute_reply": "2025-02-17T13:51:44.528336Z",
     "shell.execute_reply.started": "2025-02-17T13:51:44.522016Z"
    }
   },
   "outputs": [],
   "source": [
    "def formatter(og, c):\n",
    "    df = og.fillna('')    \n",
    "    assert isinstance(c, list), 'The additional column(s) must be in a list' \n",
    "    \n",
    "    df['text'] = og[c.pop(0)] \n",
    "    for column in c: \n",
    "        df['text'] + df[column]    \n",
    "    df['text'].replace(',', '')  #for CSV formats, no text should have commas. \n",
    "    return df\n",
    "\n",
    "def ascificatore(s):\n",
    "    return unidecode(' '.join([c for c in re.split(r'[\\r\\n\\t]+', s) if s.strip()]).encode('ascii', 'ignore').decode())"
   ]
  },
  {
   "cell_type": "markdown",
   "id": "edfaceff-9e97-4359-9eda-c74106c1d2a0",
   "metadata": {},
   "source": [
    "For the sake of the example, three \"different\" columns of text will be merged together. "
   ]
  },
  {
   "cell_type": "code",
   "execution_count": 122,
   "id": "4fb38cef-5ea9-41b0-a70d-a48b9c060a33",
   "metadata": {
    "execution": {
     "iopub.execute_input": "2025-02-17T13:51:45.556616Z",
     "iopub.status.busy": "2025-02-17T13:51:45.556236Z",
     "iopub.status.idle": "2025-02-17T13:51:45.574335Z",
     "shell.execute_reply": "2025-02-17T13:51:45.572853Z",
     "shell.execute_reply.started": "2025-02-17T13:51:45.556581Z"
    }
   },
   "outputs": [
    {
     "data": {
      "text/html": [
       "<div>\n",
       "<style scoped>\n",
       "    .dataframe tbody tr th:only-of-type {\n",
       "        vertical-align: middle;\n",
       "    }\n",
       "\n",
       "    .dataframe tbody tr th {\n",
       "        vertical-align: top;\n",
       "    }\n",
       "\n",
       "    .dataframe thead th {\n",
       "        text-align: right;\n",
       "    }\n",
       "</style>\n",
       "<table border=\"1\" class=\"dataframe\">\n",
       "  <thead>\n",
       "    <tr style=\"text-align: right;\">\n",
       "      <th></th>\n",
       "      <th>text</th>\n",
       "      <th>Label 0</th>\n",
       "      <th>Label 1</th>\n",
       "      <th>Label 2</th>\n",
       "      <th>Label 3</th>\n",
       "      <th>Label 4</th>\n",
       "      <th>Label 5</th>\n",
       "      <th>Label 6</th>\n",
       "      <th>Label 7</th>\n",
       "      <th>Label 8</th>\n",
       "      <th>Label 9</th>\n",
       "    </tr>\n",
       "  </thead>\n",
       "  <tbody>\n",
       "    <tr>\n",
       "      <th>0</th>\n",
       "      <td>telelavoro domiciliare/mobile . avviare uno st...</td>\n",
       "      <td>11630743.0</td>\n",
       "      <td>11630742.0</td>\n",
       "      <td></td>\n",
       "      <td></td>\n",
       "      <td></td>\n",
       "      <td></td>\n",
       "      <td></td>\n",
       "      <td></td>\n",
       "      <td></td>\n",
       "      <td></td>\n",
       "    </tr>\n",
       "    <tr>\n",
       "      <th>1</th>\n",
       "      <td>gruppo di lavoro interno . formalizzazione del...</td>\n",
       "      <td>11630762.0</td>\n",
       "      <td></td>\n",
       "      <td></td>\n",
       "      <td></td>\n",
       "      <td></td>\n",
       "      <td></td>\n",
       "      <td></td>\n",
       "      <td></td>\n",
       "      <td></td>\n",
       "      <td></td>\n",
       "    </tr>\n",
       "    <tr>\n",
       "      <th>2</th>\n",
       "      <td>lavoro decentrato . e' prassi in essere la pos...</td>\n",
       "      <td>11630744.0</td>\n",
       "      <td></td>\n",
       "      <td></td>\n",
       "      <td></td>\n",
       "      <td></td>\n",
       "      <td></td>\n",
       "      <td></td>\n",
       "      <td></td>\n",
       "      <td></td>\n",
       "      <td></td>\n",
       "    </tr>\n",
       "    <tr>\n",
       "      <th>3</th>\n",
       "      <td>rientro accompagnato dopo lunghe assenze . suc...</td>\n",
       "      <td>11630760.0</td>\n",
       "      <td></td>\n",
       "      <td></td>\n",
       "      <td></td>\n",
       "      <td></td>\n",
       "      <td></td>\n",
       "      <td></td>\n",
       "      <td></td>\n",
       "      <td></td>\n",
       "      <td></td>\n",
       "    </tr>\n",
       "    <tr>\n",
       "      <th>4</th>\n",
       "      <td>supervisione delle politiche di conciliazione ...</td>\n",
       "      <td>11630753.0</td>\n",
       "      <td></td>\n",
       "      <td></td>\n",
       "      <td></td>\n",
       "      <td></td>\n",
       "      <td></td>\n",
       "      <td></td>\n",
       "      <td></td>\n",
       "      <td></td>\n",
       "      <td></td>\n",
       "    </tr>\n",
       "  </tbody>\n",
       "</table>\n",
       "</div>"
      ],
      "text/plain": [
       "                                                text     Label 0     Label 1  \\\n",
       "0  telelavoro domiciliare/mobile . avviare uno st...  11630743.0  11630742.0   \n",
       "1  gruppo di lavoro interno . formalizzazione del...  11630762.0               \n",
       "2  lavoro decentrato . e' prassi in essere la pos...  11630744.0               \n",
       "3  rientro accompagnato dopo lunghe assenze . suc...  11630760.0               \n",
       "4  supervisione delle politiche di conciliazione ...  11630753.0               \n",
       "\n",
       "  Label 2 Label 3 Label 4 Label 5 Label 6 Label 7 Label 8 Label 9  \n",
       "0                                                                  \n",
       "1                                                                  \n",
       "2                                                                  \n",
       "3                                                                  \n",
       "4                                                                  "
      ]
     },
     "execution_count": 122,
     "metadata": {},
     "output_type": "execute_result"
    }
   ],
   "source": [
    "data = formatter(df, c=['text'])  #Replace the column list with names of your columns of text.\n",
    "data.head()"
   ]
  },
  {
   "cell_type": "markdown",
   "id": "d862db7d-4b52-431c-b605-b3a867231c9a",
   "metadata": {},
   "source": [
    "### Important mention\n",
    "Given the nature of the data, the classes are often very imbalanced. Since ```train.py``` automatically splits in a stratified manner, we need to have classes that have more than 3 occurrences (for each to end up in one of the train/val/test split). \n",
    "\n",
    "Furthermore, those classes are not expected to appear in future data, given their extremely low usage by municipalities, therefore we suggest using a threshold of 30 observations per class minimum for the processed data."
   ]
  },
  {
   "cell_type": "code",
   "execution_count": 123,
   "id": "e622679c-fd89-4be7-8b42-adb15fafc12a",
   "metadata": {
    "execution": {
     "iopub.execute_input": "2025-02-17T13:51:49.429661Z",
     "iopub.status.busy": "2025-02-17T13:51:49.429164Z",
     "iopub.status.idle": "2025-02-17T13:51:49.435235Z",
     "shell.execute_reply": "2025-02-17T13:51:49.434076Z",
     "shell.execute_reply.started": "2025-02-17T13:51:49.429615Z"
    }
   },
   "outputs": [],
   "source": [
    "before = data.shape[0]"
   ]
  },
  {
   "cell_type": "code",
   "execution_count": 124,
   "id": "6963c72c-86eb-4c00-8b7f-7f02e1c0ce76",
   "metadata": {
    "execution": {
     "iopub.execute_input": "2025-02-17T13:51:50.292339Z",
     "iopub.status.busy": "2025-02-17T13:51:50.291906Z",
     "iopub.status.idle": "2025-02-17T13:51:50.301441Z",
     "shell.execute_reply": "2025-02-17T13:51:50.300151Z",
     "shell.execute_reply.started": "2025-02-17T13:51:50.292298Z"
    }
   },
   "outputs": [
    {
     "name": "stdout",
     "output_type": "stream",
     "text": [
      "72 rows have been removed. Remaining classes: 40\n"
     ]
    }
   ],
   "source": [
    "c = data['Label 0'].value_counts()[data['Label 0'].value_counts() >= 3].index.tolist()\n",
    "data = data[data['Label 0'].isin(c)]\n",
    "after = data.shape[0]\n",
    "print(f'{before-after} rows have been removed. Remaining classes: {data[\"Label 0\"].unique().shape[0]}')"
   ]
  },
  {
   "cell_type": "code",
   "execution_count": 125,
   "id": "da41f21a-86b2-47af-9ca7-bda766197f1d",
   "metadata": {
    "execution": {
     "iopub.execute_input": "2025-02-17T13:51:51.470499Z",
     "iopub.status.busy": "2025-02-17T13:51:51.470030Z",
     "iopub.status.idle": "2025-02-17T13:51:51.482999Z",
     "shell.execute_reply": "2025-02-17T13:51:51.481811Z",
     "shell.execute_reply.started": "2025-02-17T13:51:51.470457Z"
    }
   },
   "outputs": [],
   "source": [
    "data.to_csv('addestramento_d.csv')"
   ]
  },
  {
   "cell_type": "markdown",
   "id": "a22bd242-41f9-42b1-88fe-d1c95bc99dbe",
   "metadata": {},
   "source": [
    "This is the preprocess in its simplest version. We also checked for potential data leaks. In this case, we mean not exactly identical text between different rows, but similar enough that the training and testing process may share an almost identical text. \n",
    "\n",
    "The accuracy often does improve, but also the risk of overfitting on the data, as only $\\approx31\\%$ of the entries of the original dataset are truly unique.\n",
    "\n",
    "A demo-version of the data is uploaded [here]()."
   ]
  }
 ],
 "metadata": {
  "kernelspec": {
   "display_name": "Python 3 (ipykernel)",
   "language": "python",
   "name": "python3"
  },
  "language_info": {
   "codemirror_mode": {
    "name": "ipython",
    "version": 3
   },
   "file_extension": ".py",
   "mimetype": "text/x-python",
   "name": "python",
   "nbconvert_exporter": "python",
   "pygments_lexer": "ipython3",
   "version": "3.10.0"
  }
 },
 "nbformat": 4,
 "nbformat_minor": 5
}
